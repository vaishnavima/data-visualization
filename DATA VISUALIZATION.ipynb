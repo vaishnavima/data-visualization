{
 "cells": [
  {
   "cell_type": "code",
   "execution_count": 37,
   "id": "317ef061-0c97-4f34-9409-894fd4aee070",
   "metadata": {},
   "outputs": [],
   "source": [
    "import numpy as np\n",
    "import pandas as pd\n",
    "import matplotlib.pyplot as plt\n",
    "import seaborn as sns\n",
    "data = pd.read_excel(r\"C:\\Users\\Akash Malviya\\Downloads\\python project.xlsx\")\n"
   ]
  },
  {
   "cell_type": "code",
   "execution_count": 38,
   "id": "323efd54-ea05-4bb8-aec0-35302b627109",
   "metadata": {},
   "outputs": [
    {
     "data": {
      "text/html": [
       "<div>\n",
       "<style scoped>\n",
       "    .dataframe tbody tr th:only-of-type {\n",
       "        vertical-align: middle;\n",
       "    }\n",
       "\n",
       "    .dataframe tbody tr th {\n",
       "        vertical-align: top;\n",
       "    }\n",
       "\n",
       "    .dataframe thead th {\n",
       "        text-align: right;\n",
       "    }\n",
       "</style>\n",
       "<table border=\"1\" class=\"dataframe\">\n",
       "  <thead>\n",
       "    <tr style=\"text-align: right;\">\n",
       "      <th></th>\n",
       "      <th>DATE</th>\n",
       "      <th>DESCRIPTION</th>\n",
       "      <th>UNIT</th>\n",
       "      <th>PLACE</th>\n",
       "    </tr>\n",
       "  </thead>\n",
       "  <tbody>\n",
       "    <tr>\n",
       "      <th>0</th>\n",
       "      <td>2022-04-01</td>\n",
       "      <td>Beef</td>\n",
       "      <td>1</td>\n",
       "      <td>Kolenchery</td>\n",
       "    </tr>\n",
       "    <tr>\n",
       "      <th>1</th>\n",
       "      <td>2022-04-01</td>\n",
       "      <td>Fish</td>\n",
       "      <td>1</td>\n",
       "      <td>Kolenchery</td>\n",
       "    </tr>\n",
       "    <tr>\n",
       "      <th>2</th>\n",
       "      <td>2022-04-03</td>\n",
       "      <td>Beef</td>\n",
       "      <td>2</td>\n",
       "      <td>Tripunithura</td>\n",
       "    </tr>\n",
       "    <tr>\n",
       "      <th>3</th>\n",
       "      <td>2022-04-05</td>\n",
       "      <td>Prawns</td>\n",
       "      <td>1</td>\n",
       "      <td>Bangalore</td>\n",
       "    </tr>\n",
       "    <tr>\n",
       "      <th>4</th>\n",
       "      <td>2022-04-06</td>\n",
       "      <td>Dates</td>\n",
       "      <td>1</td>\n",
       "      <td>Mangalore</td>\n",
       "    </tr>\n",
       "    <tr>\n",
       "      <th>...</th>\n",
       "      <td>...</td>\n",
       "      <td>...</td>\n",
       "      <td>...</td>\n",
       "      <td>...</td>\n",
       "    </tr>\n",
       "    <tr>\n",
       "      <th>106</th>\n",
       "      <td>2022-07-05</td>\n",
       "      <td>Lemon</td>\n",
       "      <td>4</td>\n",
       "      <td>NaN</td>\n",
       "    </tr>\n",
       "    <tr>\n",
       "      <th>107</th>\n",
       "      <td>2022-07-08</td>\n",
       "      <td>Beef</td>\n",
       "      <td>1</td>\n",
       "      <td>NaN</td>\n",
       "    </tr>\n",
       "    <tr>\n",
       "      <th>108</th>\n",
       "      <td>2022-07-15</td>\n",
       "      <td>Beef</td>\n",
       "      <td>1</td>\n",
       "      <td>NaN</td>\n",
       "    </tr>\n",
       "    <tr>\n",
       "      <th>109</th>\n",
       "      <td>2022-07-15</td>\n",
       "      <td>Prawns</td>\n",
       "      <td>1</td>\n",
       "      <td>NaN</td>\n",
       "    </tr>\n",
       "    <tr>\n",
       "      <th>110</th>\n",
       "      <td>2022-07-15</td>\n",
       "      <td>Lemon</td>\n",
       "      <td>1</td>\n",
       "      <td>NaN</td>\n",
       "    </tr>\n",
       "  </tbody>\n",
       "</table>\n",
       "<p>111 rows × 4 columns</p>\n",
       "</div>"
      ],
      "text/plain": [
       "          DATE DESCRIPTION  UNIT          PLACE\n",
       "0   2022-04-01        Beef     1    Kolenchery \n",
       "1   2022-04-01        Fish     1    Kolenchery \n",
       "2   2022-04-03        Beef     2  Tripunithura \n",
       "3   2022-04-05      Prawns     1     Bangalore \n",
       "4   2022-04-06       Dates     1      Mangalore\n",
       "..         ...         ...   ...            ...\n",
       "106 2022-07-05       Lemon     4            NaN\n",
       "107 2022-07-08        Beef     1            NaN\n",
       "108 2022-07-15        Beef     1            NaN\n",
       "109 2022-07-15      Prawns     1            NaN\n",
       "110 2022-07-15       Lemon     1            NaN\n",
       "\n",
       "[111 rows x 4 columns]"
      ]
     },
     "execution_count": 38,
     "metadata": {},
     "output_type": "execute_result"
    }
   ],
   "source": [
    "data"
   ]
  },
  {
   "cell_type": "code",
   "execution_count": 21,
   "id": "a8bf889b-c4d6-45d6-8135-190fd88c5aab",
   "metadata": {},
   "outputs": [
    {
     "name": "stdout",
     "output_type": "stream",
     "text": [
      "<class 'pandas.core.frame.DataFrame'>\n",
      "RangeIndex: 111 entries, 0 to 110\n",
      "Data columns (total 4 columns):\n",
      " #   Column       Non-Null Count  Dtype         \n",
      "---  ------       --------------  -----         \n",
      " 0   DATE         111 non-null    datetime64[ns]\n",
      " 1   DESCRIPTION  111 non-null    object        \n",
      " 2   UNIT         111 non-null    int64         \n",
      " 3   PLACE        103 non-null    object        \n",
      "dtypes: datetime64[ns](1), int64(1), object(2)\n",
      "memory usage: 3.6+ KB\n"
     ]
    }
   ],
   "source": [
    "data.info()"
   ]
  },
  {
   "cell_type": "code",
   "execution_count": 22,
   "id": "162c71cc-b7ba-402e-abbf-395de5d758d4",
   "metadata": {},
   "outputs": [
    {
     "name": "stdout",
     "output_type": "stream",
     "text": [
      "DATE           0\n",
      "DESCRIPTION    0\n",
      "UNIT           0\n",
      "PLACE          8\n",
      "dtype: int64\n"
     ]
    }
   ],
   "source": [
    "#let have a look at any null values\n",
    "print(data.isnull().sum())"
   ]
  },
  {
   "cell_type": "code",
   "execution_count": 23,
   "id": "fb124a54-c2e0-4f19-8145-795785f15520",
   "metadata": {},
   "outputs": [],
   "source": [
    "# There are 8 Null Values on at 'place'  "
   ]
  },
  {
   "cell_type": "code",
   "execution_count": 24,
   "id": "a5bd456b-67e5-40f0-8d48-39ab04f00719",
   "metadata": {},
   "outputs": [],
   "source": [
    "#Data is used as intermediate dataframe\n",
    "data_DF=pd.DataFrame(data.groupby(['DESCRIPTION'])['UNIT'].sum()).reset_index()"
   ]
  },
  {
   "cell_type": "code",
   "execution_count": 25,
   "id": "f9d3519d-6ed7-4a3c-a699-90fbe7d73501",
   "metadata": {},
   "outputs": [],
   "source": [
    "data_DF=data.sort_values(['UNIT'],ascending=False)"
   ]
  },
  {
   "cell_type": "code",
   "execution_count": 26,
   "id": "ee919220-fb9b-49ae-b963-99395540d769",
   "metadata": {},
   "outputs": [
    {
     "data": {
      "text/html": [
       "<div>\n",
       "<style scoped>\n",
       "    .dataframe tbody tr th:only-of-type {\n",
       "        vertical-align: middle;\n",
       "    }\n",
       "\n",
       "    .dataframe tbody tr th {\n",
       "        vertical-align: top;\n",
       "    }\n",
       "\n",
       "    .dataframe thead th {\n",
       "        text-align: right;\n",
       "    }\n",
       "</style>\n",
       "<table border=\"1\" class=\"dataframe\">\n",
       "  <thead>\n",
       "    <tr style=\"text-align: right;\">\n",
       "      <th></th>\n",
       "      <th>DESCRIPTION</th>\n",
       "      <th>UNIT</th>\n",
       "    </tr>\n",
       "  </thead>\n",
       "  <tbody>\n",
       "    <tr>\n",
       "      <th>9</th>\n",
       "      <td>Prawns</td>\n",
       "      <td>57</td>\n",
       "    </tr>\n",
       "    <tr>\n",
       "      <th>0</th>\n",
       "      <td>Beef</td>\n",
       "      <td>52</td>\n",
       "    </tr>\n",
       "    <tr>\n",
       "      <th>4</th>\n",
       "      <td>Fish</td>\n",
       "      <td>19</td>\n",
       "    </tr>\n",
       "    <tr>\n",
       "      <th>6</th>\n",
       "      <td>King Fish</td>\n",
       "      <td>19</td>\n",
       "    </tr>\n",
       "    <tr>\n",
       "      <th>8</th>\n",
       "      <td>Mango</td>\n",
       "      <td>19</td>\n",
       "    </tr>\n",
       "    <tr>\n",
       "      <th>7</th>\n",
       "      <td>Lemon</td>\n",
       "      <td>13</td>\n",
       "    </tr>\n",
       "    <tr>\n",
       "      <th>1</th>\n",
       "      <td>Dates</td>\n",
       "      <td>4</td>\n",
       "    </tr>\n",
       "    <tr>\n",
       "      <th>3</th>\n",
       "      <td>Dryfruits</td>\n",
       "      <td>4</td>\n",
       "    </tr>\n",
       "    <tr>\n",
       "      <th>2</th>\n",
       "      <td>Dry fruits</td>\n",
       "      <td>3</td>\n",
       "    </tr>\n",
       "    <tr>\n",
       "      <th>5</th>\n",
       "      <td>Kadumanga</td>\n",
       "      <td>1</td>\n",
       "    </tr>\n",
       "  </tbody>\n",
       "</table>\n",
       "</div>"
      ],
      "text/plain": [
       "  DESCRIPTION  UNIT\n",
       "9      Prawns    57\n",
       "0        Beef    52\n",
       "4        Fish    19\n",
       "6   King Fish    19\n",
       "8       Mango    19\n",
       "7       Lemon    13\n",
       "1       Dates     4\n",
       "3   Dryfruits     4\n",
       "2  Dry fruits     3\n",
       "5   Kadumanga     1"
      ]
     },
     "execution_count": 26,
     "metadata": {},
     "output_type": "execute_result"
    }
   ],
   "source": [
    "#So let prepare the data by only selecting the top 10 PRODUCTS\n",
    "data_DF.head(10)"
   ]
  },
  {
   "cell_type": "code",
   "execution_count": 27,
   "id": "fa6336dd-fbe2-443b-b68d-3bea8da5a8ae",
   "metadata": {},
   "outputs": [
    {
     "data": {
      "text/html": [
       "<div>\n",
       "<style scoped>\n",
       "    .dataframe tbody tr th:only-of-type {\n",
       "        vertical-align: middle;\n",
       "    }\n",
       "\n",
       "    .dataframe tbody tr th {\n",
       "        vertical-align: top;\n",
       "    }\n",
       "\n",
       "    .dataframe thead th {\n",
       "        text-align: right;\n",
       "    }\n",
       "</style>\n",
       "<table border=\"1\" class=\"dataframe\">\n",
       "  <thead>\n",
       "    <tr style=\"text-align: right;\">\n",
       "      <th></th>\n",
       "      <th>DESCRIPTION</th>\n",
       "      <th>UNIT</th>\n",
       "    </tr>\n",
       "  </thead>\n",
       "  <tbody>\n",
       "    <tr>\n",
       "      <th>9</th>\n",
       "      <td>Prawns</td>\n",
       "      <td>57</td>\n",
       "    </tr>\n",
       "    <tr>\n",
       "      <th>0</th>\n",
       "      <td>Beef</td>\n",
       "      <td>52</td>\n",
       "    </tr>\n",
       "    <tr>\n",
       "      <th>4</th>\n",
       "      <td>Fish</td>\n",
       "      <td>19</td>\n",
       "    </tr>\n",
       "    <tr>\n",
       "      <th>6</th>\n",
       "      <td>King Fish</td>\n",
       "      <td>19</td>\n",
       "    </tr>\n",
       "    <tr>\n",
       "      <th>8</th>\n",
       "      <td>Mango</td>\n",
       "      <td>19</td>\n",
       "    </tr>\n",
       "    <tr>\n",
       "      <th>7</th>\n",
       "      <td>Lemon</td>\n",
       "      <td>13</td>\n",
       "    </tr>\n",
       "    <tr>\n",
       "      <th>1</th>\n",
       "      <td>Dates</td>\n",
       "      <td>4</td>\n",
       "    </tr>\n",
       "    <tr>\n",
       "      <th>3</th>\n",
       "      <td>Dryfruits</td>\n",
       "      <td>4</td>\n",
       "    </tr>\n",
       "    <tr>\n",
       "      <th>2</th>\n",
       "      <td>Dry fruits</td>\n",
       "      <td>3</td>\n",
       "    </tr>\n",
       "    <tr>\n",
       "      <th>5</th>\n",
       "      <td>Kadumanga</td>\n",
       "      <td>1</td>\n",
       "    </tr>\n",
       "  </tbody>\n",
       "</table>\n",
       "</div>"
      ],
      "text/plain": [
       "  DESCRIPTION  UNIT\n",
       "9      Prawns    57\n",
       "0        Beef    52\n",
       "4        Fish    19\n",
       "6   King Fish    19\n",
       "8       Mango    19\n",
       "7       Lemon    13\n",
       "1       Dates     4\n",
       "3   Dryfruits     4\n",
       "2  Dry fruits     3\n",
       "5   Kadumanga     1"
      ]
     },
     "execution_count": 27,
     "metadata": {},
     "output_type": "execute_result"
    }
   ],
   "source": [
    "#So let prepare the data by only selecting the top 10 PRODUCTS\n",
    "TOP_10_PRODUCTS=pd.DataFrame(data_DF.head(10))\n",
    "TOP_10_PRODUCTS"
   ]
  },
  {
   "cell_type": "code",
   "execution_count": 28,
   "id": "a1e30608-e872-4a8a-8040-844a8a192112",
   "metadata": {},
   "outputs": [
    {
     "data": {
      "text/plain": [
       "<AxesSubplot:xlabel='DESCRIPTION'>"
      ]
     },
     "execution_count": 28,
     "metadata": {},
     "output_type": "execute_result"
    },
    {
     "data": {
      "image/png": "[encoded data removed]",
      "text/plain": [
       "<Figure size 432x288 with 1 Axes>"
      ]
     },
     "metadata": {
      "needs_background": "light"
     },
     "output_type": "display_data"
    }
   ],
   "source": [
    "#Now lets plot this data to have a look Higher products\n",
    "TOP_10_PRODUCTS.plot.bar(x='DESCRIPTION',y='UNIT')"
   ]
  },
  {
   "cell_type": "code",
   "execution_count": 39,
   "id": "b8db76e0-62f7-4312-9e26-063c515fba7d",
   "metadata": {},
   "outputs": [],
   "source": [
    "#Data is used as intermediate dataframe\n",
    "DATA=pd.DataFrame(data.groupby(['PLACE'])['UNIT'].sum()).reset_index()"
   ]
  },
  {
   "cell_type": "code",
   "execution_count": 40,
   "id": "2294a443-2e84-415c-8315-f89d7daf4e97",
   "metadata": {},
   "outputs": [
    {
     "data": {
      "text/html": [
       "<div>\n",
       "<style scoped>\n",
       "    .dataframe tbody tr th:only-of-type {\n",
       "        vertical-align: middle;\n",
       "    }\n",
       "\n",
       "    .dataframe tbody tr th {\n",
       "        vertical-align: top;\n",
       "    }\n",
       "\n",
       "    .dataframe thead th {\n",
       "        text-align: right;\n",
       "    }\n",
       "</style>\n",
       "<table border=\"1\" class=\"dataframe\">\n",
       "  <thead>\n",
       "    <tr style=\"text-align: right;\">\n",
       "      <th></th>\n",
       "      <th>DATE</th>\n",
       "      <th>DESCRIPTION</th>\n",
       "      <th>UNIT</th>\n",
       "      <th>PLACE</th>\n",
       "    </tr>\n",
       "  </thead>\n",
       "  <tbody>\n",
       "    <tr>\n",
       "      <th>0</th>\n",
       "      <td>2022-04-01</td>\n",
       "      <td>Beef</td>\n",
       "      <td>1</td>\n",
       "      <td>Kolenchery</td>\n",
       "    </tr>\n",
       "    <tr>\n",
       "      <th>1</th>\n",
       "      <td>2022-04-01</td>\n",
       "      <td>Fish</td>\n",
       "      <td>1</td>\n",
       "      <td>Kolenchery</td>\n",
       "    </tr>\n",
       "    <tr>\n",
       "      <th>2</th>\n",
       "      <td>2022-04-03</td>\n",
       "      <td>Beef</td>\n",
       "      <td>2</td>\n",
       "      <td>Tripunithura</td>\n",
       "    </tr>\n",
       "    <tr>\n",
       "      <th>3</th>\n",
       "      <td>2022-04-05</td>\n",
       "      <td>Prawns</td>\n",
       "      <td>1</td>\n",
       "      <td>Bangalore</td>\n",
       "    </tr>\n",
       "    <tr>\n",
       "      <th>4</th>\n",
       "      <td>2022-04-06</td>\n",
       "      <td>Dates</td>\n",
       "      <td>1</td>\n",
       "      <td>Mangalore</td>\n",
       "    </tr>\n",
       "    <tr>\n",
       "      <th>5</th>\n",
       "      <td>2022-04-07</td>\n",
       "      <td>Fish</td>\n",
       "      <td>2</td>\n",
       "      <td>Pathanamthitta</td>\n",
       "    </tr>\n",
       "  </tbody>\n",
       "</table>\n",
       "</div>"
      ],
      "text/plain": [
       "        DATE DESCRIPTION  UNIT            PLACE\n",
       "0 2022-04-01        Beef     1      Kolenchery \n",
       "1 2022-04-01        Fish     1      Kolenchery \n",
       "2 2022-04-03        Beef     2    Tripunithura \n",
       "3 2022-04-05      Prawns     1       Bangalore \n",
       "4 2022-04-06       Dates     1        Mangalore\n",
       "5 2022-04-07        Fish     2  Pathanamthitta "
      ]
     },
     "execution_count": 40,
     "metadata": {},
     "output_type": "execute_result"
    }
   ],
   "source": [
    "#So let prepare the data by only selecting the top 6 PLACE WISE UNIT\n",
    "DATA.head(6)\n",
    "#So let prepare the data by only selecting the top 6 PLACE WISE UNIT\n",
    "TOP_6_PLACE=pd.DataFrame(data.head(6))\n",
    "TOP_6_PLACE"
   ]
  },
  {
   "cell_type": "code",
   "execution_count": 41,
   "id": "ac93fad7-1ca7-48ae-a0d2-d526c071dce3",
   "metadata": {},
   "outputs": [
    {
     "data": {
      "text/plain": [
       "<AxesSubplot:xlabel='PLACE'>"
      ]
     },
     "execution_count": 41,
     "metadata": {},
     "output_type": "execute_result"
    },
    {
     "data": {
      "image/png": "[encoded data removed]",
      "text/plain": [
       "<Figure size 432x288 with 1 Axes>"
      ]
     },
     "metadata": {
      "needs_background": "light"
     },
     "output_type": "display_data"
    }
   ],
   "source": [
    "#Now lets plot this data to have a look Higher  PLACE WISE UNIT\n",
    "TOP_6_PLACE.plot.bar(x='PLACE',y='UNIT')"
   ]
  },
  {
   "cell_type": "code",
   "execution_count": null,
   "id": "51845302-b719-480e-9b68-d5aaf46ac46a",
   "metadata": {},
   "outputs": [],
   "source": []
  },
  {
   "cell_type": "code",
   "execution_count": null,
   "id": "c2c213c8-e13b-4afa-8d35-b52ac7052eaa",
   "metadata": {},
   "outputs": [],
   "source": [
    "\n"
   ]
  },
  {
   "cell_type": "markdown",
   "id": "48ac6ce7-d231-4241-85c2-b9de7c3bf1d2",
   "metadata": {},
   "source": []
  },
  {
   "cell_type": "code",
   "execution_count": null,
   "id": "a1a48206-a9c1-4d6d-a0c2-7bb586e071ba",
   "metadata": {},
   "outputs": [],
   "source": []
  },
  {
   "cell_type": "code",
   "execution_count": null,
   "id": "2e2f01b8-389c-42e0-8eb4-b4890deedfa4",
   "metadata": {},
   "outputs": [],
   "source": []
  },
  {
   "cell_type": "code",
   "execution_count": null,
   "id": "9de3bbca-c9e9-4d24-aa8c-1bf4162af416",
   "metadata": {},
   "outputs": [],
   "source": []
  }
 ],
 "metadata": {
  "kernelspec": {
   "display_name": "Python 3",
   "language": "python",
   "name": "python3"
  },
  "language_info": {
   "codemirror_mode": {
    "name": "ipython",
    "version": 3
   },
   "file_extension": ".py",
   "mimetype": "text/x-python",
   "name": "python",
   "nbconvert_exporter": "python",
   "pygments_lexer": "ipython3",
   "version": "3.8.8"
  }
 },
 "nbformat": 4,
 "nbformat_minor": 5
}
